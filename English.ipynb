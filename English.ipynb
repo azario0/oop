{
  "cells": [
    {
      "cell_type": "markdown",
      "metadata": {
        "id": "view-in-github",
        "colab_type": "text"
      },
      "source": [
        "<a href=\"https://colab.research.google.com/github/azario0/oop/blob/main/English.ipynb\" target=\"_parent\"><img src=\"https://colab.research.google.com/assets/colab-badge.svg\" alt=\"Open In Colab\"/></a>"
      ]
    },
    {
      "cell_type": "markdown",
      "metadata": {
        "id": "vqXQ-rA-ChWb"
      },
      "source": [
        "# OOP\n",
        "#### Presented by Benmalek Zohir"
      ]
    },
    {
      "cell_type": "markdown",
      "metadata": {
        "id": "vaGGiC4gChWd"
      },
      "source": [
        "## What is OOP ?\n",
        "#### Object-Oriented Programming is a programming paradigm that uses \"objects\" to design applications and computer programs.<br> It allows developers to create reusable code and model real-world scenarios more effectively.\n",
        "\n",
        "## Key Concepts:\n",
        "\n",
        "    Class: A blueprint for creating objects.\n",
        "\n",
        "    Object: An instance of a class.\n",
        "\n",
        "    Encapsulation: Binding data and methods within a single unit.\n",
        "\n",
        "    Inheritance: Allows a class to inherit attributes and methods from another class.\n",
        "\n",
        "    Polymorphism: Methods that can behave differently based on the object it is acting upon."
      ]
    },
    {
      "cell_type": "markdown",
      "metadata": {
        "id": "-nw_7NybChWe"
      },
      "source": [
        "### Classes and Objects\n",
        "A class is a blueprint for creating objects. An object is an instance of a class."
      ]
    },
    {
      "cell_type": "code",
      "execution_count": null,
      "metadata": {
        "id": "okyn5uOmChWe",
        "outputId": "e21d3f72-36fc-44f8-9314-1d19b280e7cf"
      },
      "outputs": [
        {
          "name": "stdout",
          "output_type": "stream",
          "text": [
            "The Toyota Corolla is starting.\n"
          ]
        }
      ],
      "source": [
        "class Car:\n",
        "    def __init__(self, make, model):\n",
        "        self.make = make  # Public attribute\n",
        "        self.model = model  # Public attribute\n",
        "\n",
        "    def start(self):\n",
        "        print(f\"The {self.make} {self.model} is starting.\")\n",
        "\n",
        "my_car = Car(\"Toyota\", \"Corolla\")\n",
        "my_car.start()"
      ]
    },
    {
      "cell_type": "markdown",
      "metadata": {
        "id": "no3hOYgDChWg"
      },
      "source": [
        "Explanation:\n",
        "\n",
        "    Car is a class with a constructor __init__ and a method start().\n",
        "\n",
        "    my_car is an object or instance of the class Car.\n",
        "\n",
        "    The __init__ method initializes the object's attributes.\n",
        "\n",
        "    The start() method is a behavior associated with the Car class."
      ]
    },
    {
      "cell_type": "markdown",
      "metadata": {
        "id": "VbdLtMCNChWg"
      },
      "source": [
        "### Encapsulation\n",
        "Encapsulation is the practice of hiding the internal details of an object and providing access through methods."
      ]
    },
    {
      "cell_type": "code",
      "execution_count": null,
      "metadata": {
        "id": "1XQm_XM7ChWh",
        "outputId": "1ff4e185-40a1-419d-8465-ece75906c41f"
      },
      "outputs": [
        {
          "name": "stdout",
          "output_type": "stream",
          "text": [
            "1000\n",
            "Added 500 to the balance.\n",
            "1500\n",
            "Withdrew 200 from the balance.\n",
            "1300\n"
          ]
        }
      ],
      "source": [
        "class BankAccount:\n",
        "    def __init__(self, owner, balance=0):\n",
        "        self.owner = owner\n",
        "        self.__balance = balance  # Private attribute\n",
        "\n",
        "    def deposit(self, amount):\n",
        "        if amount > 0:\n",
        "            self.__balance += amount\n",
        "            print(f\"Added {amount} to the balance.\")\n",
        "        else:\n",
        "            print(\"Deposit amount must be positive.\")\n",
        "\n",
        "    def withdraw(self, amount):\n",
        "        if 0 < amount <= self.__balance:\n",
        "            self.__balance -= amount\n",
        "            print(f\"Withdrew {amount} from the balance.\")\n",
        "        else:\n",
        "            print(\"Invalid withdrawal amount.\")\n",
        "\n",
        "    def get_balance(self):\n",
        "        return self.__balance\n",
        "\n",
        "\n",
        "account = BankAccount(\"Alice\", 1000)\n",
        "print(account.get_balance())\n",
        "account.deposit(500)\n",
        "print(account.get_balance())\n",
        "account.withdraw(200)\n",
        "print(account.get_balance())"
      ]
    },
    {
      "cell_type": "markdown",
      "metadata": {
        "id": "rPo_NXpuChWh"
      },
      "source": [
        "Explanation:\n",
        "\n",
        "    The __balance attribute is private and cannot be accessed directly.\n",
        "\n",
        "    Methods deposit(), withdraw(), and get_balance() provide controlled access to the balance."
      ]
    },
    {
      "cell_type": "markdown",
      "metadata": {
        "id": "pSG-Ru32ChWh"
      },
      "source": [
        "### Inheritance\n",
        "Inheritance allows a class to inherit attributes and methods from another class, promoting code reusability."
      ]
    },
    {
      "cell_type": "code",
      "execution_count": null,
      "metadata": {
        "id": "JMS0ZkCjChWj",
        "outputId": "d4b15e56-a5a6-4b57-9dd8-db7488729bde"
      },
      "outputs": [
        {
          "name": "stdout",
          "output_type": "stream",
          "text": [
            "Brand: Generic, Fuel Type: Petrol\n",
            "Brand: Tesla, Fuel Type: Electric\n",
            "Battery Capacity: 75 kWh\n"
          ]
        }
      ],
      "source": [
        "class Vehicle:\n",
        "    def __init__(self, brand, fuel_type):\n",
        "        self.brand = brand\n",
        "        self.fuel_type = fuel_type\n",
        "\n",
        "    def display_info(self):\n",
        "        print(f\"Brand: {self.brand}, Fuel Type: {self.fuel_type}\")\n",
        "\n",
        "class ElectricCar(Vehicle):\n",
        "    def __init__(self, brand, fuel_type, battery_capacity):\n",
        "        super().__init__(brand, fuel_type)\n",
        "        self.battery_capacity = battery_capacity\n",
        "\n",
        "    def display_info(self):\n",
        "        super().display_info()\n",
        "        print(f\"Battery Capacity: {self.battery_capacity} kWh\")\n",
        "\n",
        "vehicle = Vehicle(\"Generic\", \"Petrol\")\n",
        "vehicle.display_info()\n",
        "\n",
        "electric_car = ElectricCar(\"Tesla\", \"Electric\", 75)\n",
        "electric_car.display_info()"
      ]
    },
    {
      "cell_type": "markdown",
      "metadata": {
        "id": "BMlHFpvdChWj"
      },
      "source": [
        "Explanation:\n",
        "\n",
        "    ElectricCar inherits from Vehicle.\n",
        "\n",
        "    The super() function is used to call methods from the parent class.\n",
        "\n",
        "    Method overriding is demonstrated with display_info() in ElectricCar."
      ]
    },
    {
      "cell_type": "markdown",
      "metadata": {
        "id": "HyaH71orChWk"
      },
      "source": [
        "### Polymorphism\n",
        "Polymorphism allows methods to have different behaviors based on the object it is acting upon."
      ]
    },
    {
      "cell_type": "code",
      "execution_count": null,
      "metadata": {
        "id": "eDz9eqpcChWk",
        "outputId": "315ddc6a-647e-4e2d-aa02-4f767ccc9911"
      },
      "outputs": [
        {
          "name": "stdout",
          "output_type": "stream",
          "text": [
            "Area: 78.53999999999999\n",
            "Area: 24\n"
          ]
        }
      ],
      "source": [
        "class Shape:\n",
        "    def area(self):\n",
        "        pass\n",
        "\n",
        "class Circle(Shape):\n",
        "    def __init__(self, radius):\n",
        "        self.radius = radius\n",
        "\n",
        "    def area(self):\n",
        "        return 3.1416 * self.radius ** 2\n",
        "\n",
        "class Rectangle(Shape):\n",
        "    def __init__(self, length, width):\n",
        "        self.length = length\n",
        "        self.width = width\n",
        "\n",
        "    def area(self):\n",
        "        return self.length * self.width\n",
        "\n",
        "# Function to calculate area\n",
        "def calculate_area(shape):\n",
        "    print(f\"Area: {shape.area()}\")\n",
        "\n",
        "# Create objects\n",
        "circle = Circle(5)\n",
        "rectangle = Rectangle(4, 6)\n",
        "\n",
        "# Polymorphic behavior\n",
        "calculate_area(circle)\n",
        "calculate_area(rectangle)"
      ]
    },
    {
      "cell_type": "markdown",
      "metadata": {
        "id": "am4gy1HxChWl"
      },
      "source": [
        "Explanation:\n",
        "\n",
        "    The Shape class defines a generic interface.\n",
        "\n",
        "    Circle and Rectangle classes implement the area() method differently.\n",
        "\n",
        "    The calculate_area() function demonstrates polymorphism by handling different shapes."
      ]
    }
  ],
  "metadata": {
    "kernelspec": {
      "display_name": "Python 3",
      "language": "python",
      "name": "python3"
    },
    "language_info": {
      "codemirror_mode": {
        "name": "ipython",
        "version": 3
      },
      "file_extension": ".py",
      "mimetype": "text/x-python",
      "name": "python",
      "nbconvert_exporter": "python",
      "pygments_lexer": "ipython3",
      "version": "3.10.12"
    },
    "colab": {
      "provenance": [],
      "include_colab_link": true
    }
  },
  "nbformat": 4,
  "nbformat_minor": 0
}