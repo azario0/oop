{
  "cells": [
    {
      "cell_type": "markdown",
      "metadata": {
        "id": "view-in-github",
        "colab_type": "text"
      },
      "source": [
        "<a href=\"https://colab.research.google.com/github/azario0/oop/blob/main/French.ipynb\" target=\"_parent\"><img src=\"https://colab.research.google.com/assets/colab-badge.svg\" alt=\"Open In Colab\"/></a>"
      ]
    },
    {
      "cell_type": "markdown",
      "metadata": {
        "id": "4X0EFwJRCOTt"
      },
      "source": [
        "# POO\n",
        "#### Présenté par Benmalek Zohir"
      ]
    },
    {
      "cell_type": "markdown",
      "metadata": {
        "id": "BUHr52xxCOTw"
      },
      "source": [
        "## Qu'est-ce que la POO ?\n",
        "#### La Programmation Orientée Objet est une paradigme de programmation qui utilise des \"objets\" pour concevoir des applications et des programmes informatiques.<br> Elle permet aux développeurs de créer des codes réutilisables et de modéliser des scénarios du monde réel de manière plus efficace.\n",
        "\n",
        "## Concepts Clés:\n",
        "\n",
        "    Classe: Un plan pour créer des objets.\n",
        "\n",
        "    Objet: Une instance d'une classe.\n",
        "\n",
        "    Encapsulation: Liaison des données et des méthodes dans un seul unité.\n",
        "\n",
        "    Héritage: Permet à une classe de hériter des attributs et des méthodes d'une autre classe.\n",
        "\n",
        "    Polymorphisme: Les méthodes qui peuvent se comporter différemment en fonction de l'objet sur lequel elles agissent."
      ]
    },
    {
      "cell_type": "markdown",
      "metadata": {
        "id": "j5Y2i19FCOTx"
      },
      "source": [
        "### Classes et Objets"
      ]
    },
    {
      "cell_type": "code",
      "execution_count": null,
      "metadata": {
        "id": "70L-OYCtCOTx",
        "outputId": "4ca906ec-1011-4de7-9537-300cc983b36a"
      },
      "outputs": [
        {
          "name": "stdout",
          "output_type": "stream",
          "text": [
            "The Toyota Corolla is starting.\n"
          ]
        }
      ],
      "source": [
        "class Voiture:\n",
        "    def __init__(self, marque, modele):\n",
        "        self.marque = marque  # Attribut public\n",
        "        self.modele = modele  # Attribut public\n",
        "\n",
        "    def demarrer(self):\n",
        "        print(f\"La {self.marque} {self.modele} est en train de démarrer.\")\n",
        "\n",
        "ma_voiture = Voiture(\"Toyota\", \"Corolla\")\n",
        "ma_voiture.demarrer()"
      ]
    },
    {
      "cell_type": "markdown",
      "metadata": {
        "id": "Hr-PCgNjCOTz"
      },
      "source": [
        "Explication:\n",
        "\n",
        "    Voiture est une classe avec un constructeur __init__ et une méthode demarrer().\n",
        "\n",
        "    ma_voiture est un objet ou une instance de la classe Voiture.\n",
        "\n",
        "    La méthode __init__ initialise les attributs de l'objet.\n",
        "\n",
        "    La méthode demarrer() est un comportement associé à la classe Voiture."
      ]
    },
    {
      "cell_type": "markdown",
      "metadata": {
        "id": "6onUzRB_COT0"
      },
      "source": [
        "### Encapsulation"
      ]
    },
    {
      "cell_type": "code",
      "execution_count": null,
      "metadata": {
        "id": "kUCmrQbgCOT0",
        "outputId": "63988819-a926-4fbd-a037-1585a5bda018"
      },
      "outputs": [
        {
          "name": "stdout",
          "output_type": "stream",
          "text": [
            "1000\n",
            "Ajout de 500 au solde.\n",
            "1500\n",
            "Retrait de 200 du solde.\n",
            "1300\n"
          ]
        }
      ],
      "source": [
        "class CompteBancaire:\n",
        "    def __init__(self, proprietaire, solde=0):\n",
        "        self.proprietaire = proprietaire\n",
        "        self.__solde = solde  # Attribut privé\n",
        "\n",
        "    def deposer(self, montant):\n",
        "        if montant > 0:\n",
        "            self.__solde += montant\n",
        "            print(f\"Ajout de {montant} au solde.\")\n",
        "        else:\n",
        "            print(\"Le montant du dépôt doit être positif.\")\n",
        "\n",
        "    def retirer(self, montant):\n",
        "        if 0 < montant <= self.__solde:\n",
        "            self.__solde -= montant\n",
        "            print(f\"Retrait de {montant} du solde.\")\n",
        "        else:\n",
        "            print(\"Montant de retrait invalide.\")\n",
        "\n",
        "    def get_solde(self):\n",
        "        return self.__solde\n",
        "\n",
        "\n",
        "compte = CompteBancaire(\"Alice\", 1000)\n",
        "print(compte.get_solde())\n",
        "compte.deposer(500)\n",
        "print(compte.get_solde())\n",
        "compte.retirer(200)\n",
        "print(compte.get_solde())"
      ]
    },
    {
      "cell_type": "markdown",
      "metadata": {
        "id": "GCdDiBRcCOT1"
      },
      "source": [
        "Explication:\n",
        "\n",
        "    L'attribut __solde est privé et ne peut pas être accédé directement.\n",
        "\n",
        "    Les méthodes deposer(), retirer() et get_solde() fournissent un accès contrôlé au solde."
      ]
    },
    {
      "cell_type": "markdown",
      "metadata": {
        "id": "tXVl5ul6COT1"
      },
      "source": [
        "### Héritage"
      ]
    },
    {
      "cell_type": "code",
      "execution_count": null,
      "metadata": {
        "id": "1mvdz9x9COT2",
        "outputId": "a9a192b5-e436-4119-ea1f-3cb61bd2f335"
      },
      "outputs": [
        {
          "name": "stdout",
          "output_type": "stream",
          "text": [
            "Marque: Générique, Type de Carburant: Essence\n",
            "Marque: Tesla, Type de Carburant: Électrique\n",
            "Capacité de la Batterie: 75 kWh\n"
          ]
        }
      ],
      "source": [
        "class Vehicule:\n",
        "    def __init__(self, marque, type_carburant):\n",
        "        self.marque = marque\n",
        "        self.type_carburant = type_carburant\n",
        "\n",
        "    def afficher_info(self):\n",
        "        print(f\"Marque: {self.marque}, Type de Carburant: {self.type_carburant}\")\n",
        "\n",
        "class VoitureElectrique(Vehicule):\n",
        "    def __init__(self, marque, type_carburant, capacite_batterie):\n",
        "        super().__init__(marque, type_carburant)\n",
        "        self.capacite_batterie = capacite_batterie\n",
        "\n",
        "    def afficher_info(self):\n",
        "        super().afficher_info()\n",
        "        print(f\"Capacité de la Batterie: {self.capacite_batterie} kWh\")\n",
        "\n",
        "vehicule = Vehicule(\"Générique\", \"Essence\")\n",
        "vehicule.afficher_info()\n",
        "\n",
        "voiture_electrique = VoitureElectrique(\"Tesla\", \"Électrique\", 75)\n",
        "voiture_electrique.afficher_info()"
      ]
    },
    {
      "cell_type": "markdown",
      "metadata": {
        "id": "t16XM4zJCOT3"
      },
      "source": [
        "Explication:\n",
        "\n",
        "    VoitureElectrique hérite de Vehicule.\n",
        "\n",
        "    La fonction super() est utilisée pour appeler les méthodes de la classe parente.\n",
        "\n",
        "    La surcharge de méthode est illustrée avec afficher_info() dans VoitureElectrique."
      ]
    },
    {
      "cell_type": "markdown",
      "metadata": {
        "id": "Sh_djgi3COT4"
      },
      "source": [
        "### Polymorphisme"
      ]
    },
    {
      "cell_type": "code",
      "execution_count": null,
      "metadata": {
        "id": "meymfyRwCOT4",
        "outputId": "14d57f3f-8ab9-482c-e9e1-cd5a2391d760"
      },
      "outputs": [
        {
          "name": "stdout",
          "output_type": "stream",
          "text": [
            "Aire: 78.53999999999999\n",
            "Aire: 24\n"
          ]
        }
      ],
      "source": [
        "class Forme:\n",
        "    def aire(self):\n",
        "        pass\n",
        "\n",
        "class Cercle(Forme):\n",
        "    def __init__(self, rayon):\n",
        "        self.rayon = rayon\n",
        "\n",
        "    def aire(self):\n",
        "        return 3.1416 * self.rayon ** 2\n",
        "\n",
        "class Rectangle(Forme):\n",
        "    def __init__(self, longueur, largeur):\n",
        "        self.longueur = longueur\n",
        "        self.largeur = largeur\n",
        "\n",
        "    def aire(self):\n",
        "        return self.longueur * self.largeur\n",
        "\n",
        "# Fonction pour calculer l'aire\n",
        "def calculer_aire(forme):\n",
        "    print(f\"Aire: {forme.aire()}\")\n",
        "\n",
        "# Créer des objets\n",
        "cercle = Cercle(5)\n",
        "rectangle = Rectangle(4, 6)\n",
        "\n",
        "# Comportement polymorphique\n",
        "calculer_aire(cercle)\n",
        "calculer_aire(rectangle)"
      ]
    },
    {
      "cell_type": "markdown",
      "metadata": {
        "id": "Gs26YPSkCOT5"
      },
      "source": [
        "Explication:\n",
        "\n",
        "    La classe Forme définit une interface générique.\n",
        "\n",
        "    Les classes Cercle et Rectangle implémentent la méthode aire() différemment.\n",
        "\n",
        "    La fonction calculer_aire() illustre le polymorphisme en gérant différentes formes."
      ]
    }
  ],
  "metadata": {
    "kernelspec": {
      "display_name": "Python 3",
      "language": "python",
      "name": "python3"
    },
    "language_info": {
      "codemirror_mode": {
        "name": "ipython",
        "version": 3
      },
      "file_extension": ".py",
      "mimetype": "text/x-python",
      "name": "python",
      "nbconvert_exporter": "python",
      "pygments_lexer": "ipython3",
      "version": "3.10.12"
    },
    "colab": {
      "provenance": [],
      "include_colab_link": true
    }
  },
  "nbformat": 4,
  "nbformat_minor": 0
}